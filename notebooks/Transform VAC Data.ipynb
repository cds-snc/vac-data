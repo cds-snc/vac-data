{
 "cells": [
  {
   "cell_type": "code",
   "execution_count": 1,
   "metadata": {},
   "outputs": [],
   "source": [
    "from bs4 import BeautifulSoup"
   ]
  },
  {
   "cell_type": "code",
   "execution_count": 3,
   "metadata": {},
   "outputs": [],
   "source": [
    "import pandas as pd"
   ]
  },
  {
   "cell_type": "code",
   "execution_count": 5,
   "metadata": {},
   "outputs": [
    {
     "data": {
      "text/plain": [
       "'<!-- Disability Benefits 1 -->\\n<section>\\n  <h2 class=\"mrgn-tp-md\">Disability Benefits</h2>\\n  <div class=\"row\">  \\n    <div class=\"col-sm-12 col-md-8 mrgn-bttm-md\">\\n      <p>If there is medical evidence that shows that your condition has worsened, you may be eligible for an additional amount of compensation. To determine if you qualify, <a href=\"./MVA_7_17.do\">send a secure message</a> or <a href=\"./MVA_7_12.do\">contact us</a> to request a reassessment. However, if you have already received the maximum assessment, no additional amount can be provided.</p> \\n      <p>If you have a new condition related to your service, you can also apply for a disability benefit for this condition.</p>\\n      <a href=\"./MVA_7_23.do?dispatch=displayForm&amp;fromBB=1&amp;formID=14\" class=\"btn btn-lg btn-success mrgn-bttm-md\">Apply for a new disability benefit</a>\\n    </div>\\n    <div class=\"col-sm-12 col-md-4\">\\n      <div class=\"panel panel-default\">\\n        <header class=\"panel-heading\">\\n          <h3 class=\"panel-title\">More information</h3>\\n        </header>  \\n        <ul class=\"list-group\">\\n          <li class=\"list-group-item\">\\n            <a  href=\\'#vac-site-confirm-popup\\' \\n                aria-controls=\"vac-site-confirm-popup\" \\n                class=\"wb-lbx\" \\n                role=\"button\" \\n                rel=\"external\" \\n                target=\"_blank\" \\n                data-vac-url=\"http://www.veterans.gc.ca/eng/services/after-injury/disability-benefits/\">\\n                Disability Benefits\\n                <span class=\"fa fa-external-link mrgn-lft-sm\"></span>\\n            </a>\\n          </li>\\n          <li class=\"list-group-item\">\\n            <a  href=\\'#vac-site-confirm-popup\\' \\n                aria-controls=\"vac-site-confirm-popup\" \\n                class=\"wb-lbx\" \\n                role=\"button\" \\n                rel=\"external\" \\n                target=\"_blank\" \\n                data-vac-url=\"http://www.veterans.gc.ca/eng/about-us/policy\">\\n                Disability Benefits policies\\n                <span class=\"fa fa-external-link mrgn-lft-sm\"></span>\\n            </a>\\n          </li>\\n        </ul> \\n      </div>\\n    </div>\\n  </div>\\n</section>'"
      ]
     },
     "execution_count": 5,
     "metadata": {},
     "output_type": "execute_result"
    }
   ],
   "source": [
    "df = pd.read_excel('../data/VAC Data.xlsx', sheet_name=3)\n",
    "df.loc[0]['EN MVA']"
   ]
  },
  {
   "cell_type": "code",
   "execution_count": null,
   "metadata": {},
   "outputs": [],
   "source": []
  },
  {
   "cell_type": "code",
   "execution_count": null,
   "metadata": {},
   "outputs": [],
   "source": []
  }
 ],
 "metadata": {
  "kernelspec": {
   "display_name": "Python 3",
   "language": "python",
   "name": "python3"
  },
  "language_info": {
   "codemirror_mode": {
    "name": "ipython",
    "version": 3
   },
   "file_extension": ".py",
   "mimetype": "text/x-python",
   "name": "python",
   "nbconvert_exporter": "python",
   "pygments_lexer": "ipython3",
   "version": "3.6.4"
  }
 },
 "nbformat": 4,
 "nbformat_minor": 2
}
