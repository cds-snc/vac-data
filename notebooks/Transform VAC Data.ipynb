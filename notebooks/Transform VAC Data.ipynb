{
 "cells": [
  {
   "cell_type": "code",
   "execution_count": 7,
   "metadata": {},
   "outputs": [],
   "source": [
    "from bs4 import BeautifulSoup\n",
    "import pandas as pd"
   ]
  },
  {
   "cell_type": "code",
   "execution_count": 9,
   "metadata": {},
   "outputs": [],
   "source": [
    "df = pd.read_excel('../data/VAC Data.xlsx', sheet_name=3)"
   ]
  },
  {
   "cell_type": "code",
   "execution_count": 19,
   "metadata": {},
   "outputs": [
    {
     "data": {
      "text/plain": [
       "0                                   Disability Benefits\n",
       "1                                   Disability Benefits\n",
       "2                                   Disability Benefits\n",
       "3                                   Disability Benefits\n",
       "4                                   Disability Benefits\n",
       "5                       Family Caregiver Relief Benefit\n",
       "6                                  Attendance Allowance\n",
       "7                                    Clothing Allowance\n",
       "8                      Exceptional Incapacity Allowance\n",
       "9     Federal Government jobs for Armed Forces Veterans\n",
       "10                              Rehabilitation services\n",
       "11                              Rehabilitation services\n",
       "12                              Rehabilitation services\n",
       "13                              Career Impact Allowance\n",
       "14                   Career Impact Allowance Supplement\n",
       "15                          Diminished Earning Capacity\n",
       "16                       Canadian Forces Income Support\n",
       "17                   Retirement Income Security Benefit\n",
       "18                        Veterans Independence Program\n",
       "19                               War Veterans Allowance\n",
       "20                                      Assistance Fund\n",
       "21                           Career Transition Services\n",
       "22                                 Transition interview\n",
       "23                                 Transition interview\n",
       "24                               Canada Service Veteran\n",
       "25                              Critical Injury Benefit\n",
       "26                             Case Management Services\n",
       "27                                       Long term care\n",
       "28                           The VAC Assistance Service\n",
       "29                                   Survivor's Pension\n",
       "                            ...                        \n",
       "38                     Vocational Assistance (survivor)\n",
       "39                         Education Assistance Program\n",
       "40                                        Death Benefit\n",
       "41                      Disability benefits (survivor) \n",
       "42                                   Disability Pension\n",
       "43                               War Veterans Allowance\n",
       "44                                 Attendance Allowance\n",
       "45                      Family Caregiver Relief Benefit\n",
       "46                                Vocational Assistance\n",
       "47                      Supporting your family's health\n",
       "48                                   Funeral and Burial\n",
       "49                   Retirement Income Security Benefit\n",
       "50                      Disability benefits (survivor) \n",
       "51                      Disability benefits (survivor) \n",
       "52                                        Death Benefit\n",
       "53                                   Survivor's Pension\n",
       "54    Veterans Independence Program (VIP) for primar...\n",
       "55                                   Funeral and Burial\n",
       "56                                   Funeral and Burial\n",
       "57                     Earnings Loss Benefit (survivor)\n",
       "58                       Canadian Forces Income Support\n",
       "59                         Education Assistance Program\n",
       "60                               War Veterans Allowance\n",
       "61                                      Assistance Fund\n",
       "62                                      Memorial Ribbon\n",
       "63                           The VAC Assistance Service\n",
       "64                                 OSISS Family support\n",
       "65                                    Pastoral Outreach\n",
       "66    Veterans Independence Program (VIP) for primar...\n",
       "67    Veterans Independence Program (VIP) for primar...\n",
       "Name: EN MVA, Length: 68, dtype: object"
      ]
     },
     "execution_count": 19,
     "metadata": {},
     "output_type": "execute_result"
    }
   ],
   "source": [
    "df['EN MVA'].map(lambda x: BeautifulSoup(x, \"html5lib\").find_all('h2')[0].get_text())"
   ]
  },
  {
   "cell_type": "code",
   "execution_count": null,
   "metadata": {},
   "outputs": [],
   "source": []
  }
 ],
 "metadata": {
  "kernelspec": {
   "display_name": "Python 3",
   "language": "python",
   "name": "python3"
  },
  "language_info": {
   "codemirror_mode": {
    "name": "ipython",
    "version": 3
   },
   "file_extension": ".py",
   "mimetype": "text/x-python",
   "name": "python",
   "nbconvert_exporter": "python",
   "pygments_lexer": "ipython3",
   "version": "3.6.4"
  }
 },
 "nbformat": 4,
 "nbformat_minor": 2
}
