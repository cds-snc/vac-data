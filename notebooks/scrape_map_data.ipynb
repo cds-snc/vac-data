{
 "cells": [
  {
   "cell_type": "code",
   "execution_count": 128,
   "metadata": {},
   "outputs": [],
   "source": [
    "import requests\n",
    "from bs4 import BeautifulSoup\n",
    "import bs4\n",
    "import pandas as pd"
   ]
  },
  {
   "cell_type": "code",
   "execution_count": 4,
   "metadata": {},
   "outputs": [],
   "source": [
    "url = \"http://www.veterans.gc.ca/eng/contact/map\"\n",
    "resp = requests.get(url)\n",
    "text = resp.text"
   ]
  },
  {
   "cell_type": "code",
   "execution_count": 10,
   "metadata": {},
   "outputs": [],
   "source": [
    "soup = BeautifulSoup(text, 'html.parser')"
   ]
  },
  {
   "cell_type": "code",
   "execution_count": 133,
   "metadata": {},
   "outputs": [],
   "source": [
    "def get_data_from_details(details):\n",
    "    office_name_w_whitespace = details.summary.text\n",
    "    office_name = office_name_w_whitespace.strip()\n",
    "    p = details.find(\"p\")\n",
    "    address = ', '.join([x for x in p.contents if type(x) != bs4.element.Tag])    \n",
    "    a = details.find(\"a\")    \n",
    "    latLngStr = a.attrs['href'].split('(')[-1].split(')')[0].split(',')[:2]   \n",
    "    lat = float(latLngStr[0]) \n",
    "    lng = float(latLngStr[1])\n",
    "    return {\n",
    "        'office_name': office_name,\n",
    "        'address': address,\n",
    "        'lat': lat,\n",
    "        'lng': lng\n",
    "           }"
   ]
  },
  {
   "cell_type": "code",
   "execution_count": 134,
   "metadata": {},
   "outputs": [],
   "source": [
    "office_data = []\n",
    "for details in soup.find_all('details'):\n",
    "    try:\n",
    "        office_data.append(get_data_from_details(details))\n",
    "    except:\n",
    "        print('exception!')"
   ]
  },
  {
   "cell_type": "code",
   "execution_count": 135,
   "metadata": {},
   "outputs": [],
   "source": [
    "office_data_2 = [x for x in office_data if 'office' in x['office_name'].lower()]"
   ]
  },
  {
   "cell_type": "code",
   "execution_count": 136,
   "metadata": {},
   "outputs": [
    {
     "data": {
      "text/plain": [
       "38"
      ]
     },
     "execution_count": 136,
     "metadata": {},
     "output_type": "execute_result"
    }
   ],
   "source": [
    "len(office_data_2)"
   ]
  },
  {
   "cell_type": "code",
   "execution_count": 137,
   "metadata": {},
   "outputs": [],
   "source": [
    "df = pd.DataFrame.from_dict(office_data_2)"
   ]
  },
  {
   "cell_type": "code",
   "execution_count": 82,
   "metadata": {},
   "outputs": [],
   "source": [
    "df.to_csv(\"vac_office_data.csv\", index=False)"
   ]
  },
  {
   "cell_type": "code",
   "execution_count": null,
   "metadata": {},
   "outputs": [],
   "source": []
  }
 ],
 "metadata": {
  "kernelspec": {
   "display_name": "Python 3",
   "language": "python",
   "name": "python3"
  },
  "language_info": {
   "codemirror_mode": {
    "name": "ipython",
    "version": 3
   },
   "file_extension": ".py",
   "mimetype": "text/x-python",
   "name": "python",
   "nbconvert_exporter": "python",
   "pygments_lexer": "ipython3",
   "version": "3.6.4"
  }
 },
 "nbformat": 4,
 "nbformat_minor": 2
}
