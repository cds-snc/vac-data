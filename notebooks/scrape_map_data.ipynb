{
 "cells": [
  {
   "cell_type": "code",
   "execution_count": 2,
   "metadata": {},
   "outputs": [],
   "source": [
    "import requests\n",
    "from bs4 import BeautifulSoup\n",
    "import bs4\n",
    "import pandas as pd"
   ]
  },
  {
   "cell_type": "code",
   "execution_count": 3,
   "metadata": {},
   "outputs": [],
   "source": [
    "url_en = \"http://www.veterans.gc.ca/eng/contact/map\"\n",
    "url_fr = \"http://www.veterans.gc.ca/fra/contact/map\"\n",
    "\n",
    "resp_en = requests.get(url_en)\n",
    "resp_fr = requests.get(url_fr)\n",
    "\n",
    "text_en = resp_en.text\n",
    "text_fr = resp_fr.text"
   ]
  },
  {
   "cell_type": "code",
   "execution_count": 11,
   "metadata": {},
   "outputs": [],
   "source": [
    "soup_en = BeautifulSoup(text_en, 'html.parser')\n",
    "soup_fr = BeautifulSoup(text_fr, 'html.parser')"
   ]
  },
  {
   "cell_type": "code",
   "execution_count": 12,
   "metadata": {},
   "outputs": [],
   "source": [
    "def get_data_from_details(details):\n",
    "    office_name_w_whitespace = details.summary.text\n",
    "    office_name = office_name_w_whitespace.strip()\n",
    "    p = details.find(\"p\")\n",
    "    address = ', '.join([x for x in p.contents if type(x) != bs4.element.Tag])    \n",
    "    a = details.find(\"a\")    \n",
    "    latLngStr = a.attrs['href'].split('(')[-1].split(')')[0].split(',')[:2]   \n",
    "    lat = float(latLngStr[0]) \n",
    "    lng = float(latLngStr[1])\n",
    "    return {\n",
    "        'office_name': office_name,\n",
    "        'address': address,\n",
    "        'lat': lat,\n",
    "        'lng': lng\n",
    "           }"
   ]
  },
  {
   "cell_type": "code",
   "execution_count": 13,
   "metadata": {},
   "outputs": [],
   "source": [
    "office_data_en = []\n",
    "office_data_fr = []\n",
    "\n",
    "for details in soup_en.find_all('details'):\n",
    "    try:\n",
    "        office_data_en.append(get_data_from_details(details))\n",
    "    except:\n",
    "        print('exception!')\n",
    "        \n",
    "for details in soup_fr.find_all('details'):\n",
    "    try:\n",
    "        office_data_fr.append(get_data_from_details(details))\n",
    "    except:\n",
    "        print('exception!')"
   ]
  },
  {
   "cell_type": "code",
   "execution_count": 29,
   "metadata": {},
   "outputs": [],
   "source": [
    "office_data_en_2 = [x for x in office_data_en if 'office' in x['office_name'].lower()]\n",
    "office_data_fr_2 = [x for x in office_data_fr if \n",
    "                    (\n",
    "                        'bureau' in x['office_name'].lower() \n",
    "                        and 'pensions' not in x['office_name'].lower() \n",
    "                        and 'BSJP' not in x['office_name']\n",
    "                        and 'CISP' not in x['office_name']\n",
    "                    )\n",
    "                   ]"
   ]
  },
  {
   "cell_type": "code",
   "execution_count": 30,
   "metadata": {},
   "outputs": [
    {
     "data": {
      "text/plain": [
       "38"
      ]
     },
     "execution_count": 30,
     "metadata": {},
     "output_type": "execute_result"
    }
   ],
   "source": [
    "len(office_data_fr_2)"
   ]
  },
  {
   "cell_type": "code",
   "execution_count": 35,
   "metadata": {},
   "outputs": [],
   "source": [
    "coords_en = [(x['lat'], x['lng']) for x in office_data_en_2]\n",
    "coords_fr = [(x['lat'], x['lng']) for x in office_data_fr_2]"
   ]
  },
  {
   "cell_type": "code",
   "execution_count": 41,
   "metadata": {},
   "outputs": [],
   "source": [
    "assert(len(set(coords_en + coords_fr)) == len(set(coords_en)))\n",
    "assert(len(set(coords_en + coords_fr)) == len(set(coords_fr)))      "
   ]
  },
  {
   "cell_type": "code",
   "execution_count": 42,
   "metadata": {},
   "outputs": [],
   "source": [
    "# we can use coords as the id to match english and french entries"
   ]
  },
  {
   "cell_type": "code",
   "execution_count": 43,
   "metadata": {},
   "outputs": [],
   "source": [
    "office_data = {}\n",
    "for x in office_data_en_2:\n",
    "    coords = (x['lat'], x['lng'])\n",
    "    if coords not in office_data:\n",
    "        office_data[coords] = {}\n",
    "    office_data[coords]['name_en'] = x['office_name']\n",
    "    office_data[coords]['address_en'] = x['address']\n",
    "    office_data[coords]['lng'] = x['lng']\n",
    "    office_data[coords]['lat'] = x['lat']\n",
    "    \n",
    "    \n",
    "for x in office_data_fr_2:\n",
    "    coords = (x['lat'], x['lng'])\n",
    "    if coords not in office_data:\n",
    "        office_data[coords] = {}\n",
    "    office_data[coords]['name_fr'] = x['office_name']\n",
    "    office_data[coords]['address_fr'] = x['address']"
   ]
  },
  {
   "cell_type": "code",
   "execution_count": 47,
   "metadata": {},
   "outputs": [],
   "source": [
    "df = pd.DataFrame.from_dict(list(office_data.values()))"
   ]
  },
  {
   "cell_type": "code",
   "execution_count": 49,
   "metadata": {},
   "outputs": [
    {
     "data": {
      "text/html": [
       "<div>\n",
       "<style scoped>\n",
       "    .dataframe tbody tr th:only-of-type {\n",
       "        vertical-align: middle;\n",
       "    }\n",
       "\n",
       "    .dataframe tbody tr th {\n",
       "        vertical-align: top;\n",
       "    }\n",
       "\n",
       "    .dataframe thead th {\n",
       "        text-align: right;\n",
       "    }\n",
       "</style>\n",
       "<table border=\"1\" class=\"dataframe\">\n",
       "  <thead>\n",
       "    <tr style=\"text-align: right;\">\n",
       "      <th></th>\n",
       "      <th>address_en</th>\n",
       "      <th>address_fr</th>\n",
       "      <th>name_en</th>\n",
       "      <th>name_fr</th>\n",
       "    </tr>\n",
       "  </thead>\n",
       "  <tbody>\n",
       "    <tr>\n",
       "      <th>0</th>\n",
       "      <td>Bantrel Tower , 700 6,  Avenue Southwest, 7,  ...</td>\n",
       "      <td>Tour Bantrel, 700, 6,  Sud-ouest, 7,  étage, C...</td>\n",
       "      <td>Calgary Office</td>\n",
       "      <td>Bureau de Calgary</td>\n",
       "    </tr>\n",
       "    <tr>\n",
       "      <th>1</th>\n",
       "      <td>940 Canada Place, 9700 Jasper Avenue, Edmonton...</td>\n",
       "      <td>940 Canada Place, 9700, avenue Jasper, Edmonto...</td>\n",
       "      <td>Edmonton Office</td>\n",
       "      <td>Bureau d'Edmonton</td>\n",
       "    </tr>\n",
       "    <tr>\n",
       "      <th>2</th>\n",
       "      <td>471 Queensway Avenue,, 3,  Floor, Suite 313, K...</td>\n",
       "      <td>471, avenue Queensway,, 3,  étage, bureau 313,...</td>\n",
       "      <td>Kelowna Office</td>\n",
       "      <td>Bureau de Kelowna</td>\n",
       "    </tr>\n",
       "    <tr>\n",
       "      <th>3</th>\n",
       "      <td>60 Nanaimo Avenue West , Penticton, BC</td>\n",
       "      <td>60, avenue Nanaimo Ouest , Penticton (Colombie...</td>\n",
       "      <td>Penticton Office</td>\n",
       "      <td>Bureau de Penticton</td>\n",
       "    </tr>\n",
       "    <tr>\n",
       "      <th>4</th>\n",
       "      <td>299 Victoria Street, 4,  Floor, Suite 435, Pri...</td>\n",
       "      <td>299, rue Victoria, 4,  étage, bureau 435, Prin...</td>\n",
       "      <td>Prince George Office</td>\n",
       "      <td>Bureau de Prince George</td>\n",
       "    </tr>\n",
       "  </tbody>\n",
       "</table>\n",
       "</div>"
      ],
      "text/plain": [
       "                                          address_en  \\\n",
       "0  Bantrel Tower , 700 6,  Avenue Southwest, 7,  ...   \n",
       "1  940 Canada Place, 9700 Jasper Avenue, Edmonton...   \n",
       "2  471 Queensway Avenue,, 3,  Floor, Suite 313, K...   \n",
       "3             60 Nanaimo Avenue West , Penticton, BC   \n",
       "4  299 Victoria Street, 4,  Floor, Suite 435, Pri...   \n",
       "\n",
       "                                          address_fr               name_en  \\\n",
       "0  Tour Bantrel, 700, 6,  Sud-ouest, 7,  étage, C...        Calgary Office   \n",
       "1  940 Canada Place, 9700, avenue Jasper, Edmonto...       Edmonton Office   \n",
       "2  471, avenue Queensway,, 3,  étage, bureau 313,...        Kelowna Office   \n",
       "3  60, avenue Nanaimo Ouest , Penticton (Colombie...      Penticton Office   \n",
       "4  299, rue Victoria, 4,  étage, bureau 435, Prin...  Prince George Office   \n",
       "\n",
       "                   name_fr  \n",
       "0        Bureau de Calgary  \n",
       "1        Bureau d'Edmonton  \n",
       "2        Bureau de Kelowna  \n",
       "3      Bureau de Penticton  \n",
       "4  Bureau de Prince George  "
      ]
     },
     "execution_count": 49,
     "metadata": {},
     "output_type": "execute_result"
    }
   ],
   "source": [
    "df.head()"
   ]
  },
  {
   "cell_type": "code",
   "execution_count": 50,
   "metadata": {},
   "outputs": [],
   "source": [
    "df.to_csv(\"vac_office_data.csv\")"
   ]
  },
  {
   "cell_type": "code",
   "execution_count": null,
   "metadata": {},
   "outputs": [],
   "source": []
  }
 ],
 "metadata": {
  "kernelspec": {
   "display_name": "Python 3",
   "language": "python",
   "name": "python3"
  },
  "language_info": {
   "codemirror_mode": {
    "name": "ipython",
    "version": 3
   },
   "file_extension": ".py",
   "mimetype": "text/x-python",
   "name": "python",
   "nbconvert_exporter": "python",
   "pygments_lexer": "ipython3",
   "version": "3.6.4"
  }
 },
 "nbformat": 4,
 "nbformat_minor": 2
}
