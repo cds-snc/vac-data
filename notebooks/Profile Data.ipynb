{
 "cells": [
  {
   "cell_type": "code",
   "execution_count": 1,
   "metadata": {},
   "outputs": [],
   "source": [
    "from bs4 import BeautifulSoup\n",
    "import pandas as pd"
   ]
  },
  {
   "cell_type": "code",
   "execution_count": 2,
   "metadata": {},
   "outputs": [],
   "source": [
    "pd.options.display.max_columns = 200\n",
    "pd.options.display.max_rows = 200\n",
    "pd.options.display.max_colwidth = 5000"
   ]
  },
  {
   "cell_type": "code",
   "execution_count": 3,
   "metadata": {},
   "outputs": [],
   "source": [
    "from IPython.display import display, HTML\n",
    "\n",
    "def pretty_print(df):\n",
    "    return display( HTML( df.to_html().replace(\"\\\\n\",\"<br>\") ) )"
   ]
  },
  {
   "cell_type": "markdown",
   "metadata": {},
   "source": [
    "## Profile Questions\n",
    "\n",
    "- Service Type?\n",
    "    - CAF \n",
    "    - RCMP \n",
    "    - War Service Veteran\n",
    "\n",
    "- Patron Type?\n",
    "    - Service Member\n",
    "    - Family\n",
    "\n",
    "- Is Still Serving?\n",
    "    - None if Service Type != CAF\n",
    "    - Is Still Serving\n",
    "    - Released\n",
    " \n",
    "- Veteran Is Alive?\n",
    "    - None if Patron Type == Service Member\n",
    "    - Veteran Is Alive\n",
    "    - Veteran is Deceased   "
   ]
  },
  {
   "cell_type": "markdown",
   "metadata": {},
   "source": [
    "# Get Data"
   ]
  },
  {
   "cell_type": "code",
   "execution_count": 4,
   "metadata": {},
   "outputs": [],
   "source": [
    "df_results_orig = pd.read_excel('../data/VAC Data.xlsx', sheet_name=3)\n",
    "df_mapping_orig = pd.read_excel('../data/VAC Data.xlsx', sheet_name=2)"
   ]
  },
  {
   "cell_type": "code",
   "execution_count": 5,
   "metadata": {},
   "outputs": [],
   "source": [
    "df_mapping = df_mapping_orig.rename(columns={df_mapping_orig.columns[0]: \"Result ID\", \n",
    "                                         \"Statements\": \"Scenario\",\n",
    "                                         \"Unnamed: 129\": \"Service Type\",\n",
    "                                         \"Unnamed: 127\": \"Result Name\",\n",
    "                                         \"Unnamed: 130\": \"Applicant\",\n",
    "                                         \"Unnamed: 131\": \"Benefit\",\n",
    "                                         \"Unnamed: 132\": \"Additional Details\",\n",
    "                                         \"Unnamed: 128\": \"Result Description\",\n",
    "                                        })\n",
    "df_mapping = df_mapping.drop(df_mapping.index[0])"
   ]
  },
  {
   "cell_type": "code",
   "execution_count": null,
   "metadata": {},
   "outputs": [],
   "source": []
  },
  {
   "cell_type": "markdown",
   "metadata": {},
   "source": [
    "## Member or Veteran died as a result of a service related injury or illness "
   ]
  },
  {
   "cell_type": "code",
   "execution_count": 6,
   "metadata": {
    "scrolled": true
   },
   "outputs": [
    {
     "data": {
      "text/html": [
       "<div>\n",
       "<style scoped>\n",
       "    .dataframe tbody tr th:only-of-type {\n",
       "        vertical-align: middle;\n",
       "    }\n",
       "\n",
       "    .dataframe tbody tr th {\n",
       "        vertical-align: top;\n",
       "    }\n",
       "\n",
       "    .dataframe thead th {\n",
       "        text-align: right;\n",
       "    }\n",
       "</style>\n",
       "<table border=\"1\" class=\"dataframe\">\n",
       "  <thead>\n",
       "    <tr style=\"text-align: right;\">\n",
       "      <th></th>\n",
       "      <th>Benefit</th>\n",
       "      <th>still serving</th>\n",
       "      <th>Member or Veteran died as a result of a service related injury or illness</th>\n",
       "    </tr>\n",
       "  </thead>\n",
       "  <tbody>\n",
       "    <tr>\n",
       "      <th>11</th>\n",
       "      <td>Disability Benefits</td>\n",
       "      <td>NaN</td>\n",
       "      <td>NaN</td>\n",
       "    </tr>\n",
       "    <tr>\n",
       "      <th>61</th>\n",
       "      <td>Family Caregiver Relief Benefit</td>\n",
       "      <td>NaN</td>\n",
       "      <td>NaN</td>\n",
       "    </tr>\n",
       "    <tr>\n",
       "      <th>71</th>\n",
       "      <td>Attendance Allowance</td>\n",
       "      <td>NaN</td>\n",
       "      <td>NaN</td>\n",
       "    </tr>\n",
       "    <tr>\n",
       "      <th>81</th>\n",
       "      <td>Clothing Allowance</td>\n",
       "      <td>NaN</td>\n",
       "      <td>NaN</td>\n",
       "    </tr>\n",
       "    <tr>\n",
       "      <th>91</th>\n",
       "      <td>Exceptional Incapacity Allowance</td>\n",
       "      <td>Y</td>\n",
       "      <td>NaN</td>\n",
       "    </tr>\n",
       "  </tbody>\n",
       "</table>\n",
       "</div>"
      ],
      "text/plain": [
       "                             Benefit still serving  \\\n",
       "11               Disability Benefits           NaN   \n",
       "61   Family Caregiver Relief Benefit           NaN   \n",
       "71              Attendance Allowance           NaN   \n",
       "81                Clothing Allowance           NaN   \n",
       "91  Exceptional Incapacity Allowance             Y   \n",
       "\n",
       "   Member or Veteran died as a result of a service related injury or illness  \n",
       "11                                                                       NaN  \n",
       "61                                                                       NaN  \n",
       "71                                                                       NaN  \n",
       "81                                                                       NaN  \n",
       "91                                                                       NaN  "
      ]
     },
     "execution_count": 6,
     "metadata": {},
     "output_type": "execute_result"
    }
   ],
   "source": [
    "df = df_mapping[['Benefit', 'still serving', 'Member or Veteran died as a result of a service related injury or illness']]\n",
    "df.drop_duplicates().head()"
   ]
  },
  {
   "cell_type": "markdown",
   "metadata": {},
   "source": [
    "## Family benefits: Veteran deceased vs alive"
   ]
  },
  {
   "cell_type": "code",
   "execution_count": 7,
   "metadata": {
    "scrolled": true
   },
   "outputs": [
    {
     "data": {
      "text/html": [
       "<div>\n",
       "<style scoped>\n",
       "    .dataframe tbody tr th:only-of-type {\n",
       "        vertical-align: middle;\n",
       "    }\n",
       "\n",
       "    .dataframe tbody tr th {\n",
       "        vertical-align: top;\n",
       "    }\n",
       "\n",
       "    .dataframe thead th {\n",
       "        text-align: right;\n",
       "    }\n",
       "</style>\n",
       "<table border=\"1\" class=\"dataframe\">\n",
       "  <thead>\n",
       "    <tr style=\"text-align: right;\">\n",
       "      <th></th>\n",
       "      <th>Benefit</th>\n",
       "      <th>Veteran Alive</th>\n",
       "    </tr>\n",
       "  </thead>\n",
       "  <tbody>\n",
       "    <tr>\n",
       "      <th>100161</th>\n",
       "      <td>Attendance Allowance</td>\n",
       "      <td>Alive</td>\n",
       "    </tr>\n",
       "    <tr>\n",
       "      <th>100141</th>\n",
       "      <td>Disability Benefits</td>\n",
       "      <td>Alive</td>\n",
       "    </tr>\n",
       "    <tr>\n",
       "      <th>100171</th>\n",
       "      <td>Family Caregiver Relief Benefit</td>\n",
       "      <td>Alive</td>\n",
       "    </tr>\n",
       "    <tr>\n",
       "      <th>100363</th>\n",
       "      <td>Memorial Ribbon</td>\n",
       "      <td>Alive</td>\n",
       "    </tr>\n",
       "    <tr>\n",
       "      <th>100381</th>\n",
       "      <td>OSISS Family Support</td>\n",
       "      <td>Alive</td>\n",
       "    </tr>\n",
       "  </tbody>\n",
       "</table>\n",
       "</div>"
      ],
      "text/plain": [
       "                                Benefit Veteran Alive\n",
       "100161             Attendance Allowance         Alive\n",
       "100141              Disability Benefits         Alive\n",
       "100171  Family Caregiver Relief Benefit         Alive\n",
       "100363                  Memorial Ribbon         Alive\n",
       "100381             OSISS Family Support         Alive"
      ]
     },
     "execution_count": 7,
     "metadata": {},
     "output_type": "execute_result"
    }
   ],
   "source": [
    "df = df_mapping[['Benefit', 'Applicant']].drop_duplicates()\n",
    "df = df[df['Applicant'] != 'Member']\n",
    "        \n",
    "df['Veteran Alive'] = df.Applicant.map(lambda s: 'Deceased' if s in ['Survivor', 'Orphan (Veteran is deceased)'] else 'Alive')\n",
    "df = df[['Benefit', 'Veteran Alive']].drop_duplicates()\n",
    "df.sort_values(by=['Veteran Alive', 'Benefit']).head()"
   ]
  },
  {
   "cell_type": "markdown",
   "metadata": {},
   "source": [
    "## All together"
   ]
  },
  {
   "cell_type": "code",
   "execution_count": 8,
   "metadata": {
    "scrolled": false
   },
   "outputs": [
    {
     "data": {
      "text/html": [
       "<div>\n",
       "<style scoped>\n",
       "    .dataframe tbody tr th:only-of-type {\n",
       "        vertical-align: middle;\n",
       "    }\n",
       "\n",
       "    .dataframe tbody tr th {\n",
       "        vertical-align: top;\n",
       "    }\n",
       "\n",
       "    .dataframe thead th {\n",
       "        text-align: right;\n",
       "    }\n",
       "</style>\n",
       "<table border=\"1\" class=\"dataframe\">\n",
       "  <thead>\n",
       "    <tr style=\"text-align: right;\">\n",
       "      <th></th>\n",
       "      <th>Benefit</th>\n",
       "      <th>Service Type</th>\n",
       "      <th>Patron Type</th>\n",
       "      <th>Is Still Serving</th>\n",
       "      <th>Is Veteran Alive</th>\n",
       "    </tr>\n",
       "  </thead>\n",
       "  <tbody>\n",
       "    <tr>\n",
       "      <th>0</th>\n",
       "      <td>Attendance Allowance</td>\n",
       "      <td>War Service Veteran</td>\n",
       "      <td>Family</td>\n",
       "      <td>Unknown</td>\n",
       "      <td>Veteran is Alive</td>\n",
       "    </tr>\n",
       "    <tr>\n",
       "      <th>1</th>\n",
       "      <td>Attendance Allowance</td>\n",
       "      <td>CAF</td>\n",
       "      <td>Member</td>\n",
       "      <td>Unknown</td>\n",
       "      <td>Veteran is Alive</td>\n",
       "    </tr>\n",
       "    <tr>\n",
       "      <th>2</th>\n",
       "      <td>Attendance Allowance</td>\n",
       "      <td>War Service Veteran</td>\n",
       "      <td>Member</td>\n",
       "      <td>Unknown</td>\n",
       "      <td>Veteran is Alive</td>\n",
       "    </tr>\n",
       "    <tr>\n",
       "      <th>3</th>\n",
       "      <td>Attendance Allowance</td>\n",
       "      <td>RCMP</td>\n",
       "      <td>Member</td>\n",
       "      <td>Unknown</td>\n",
       "      <td>Veteran is Alive</td>\n",
       "    </tr>\n",
       "    <tr>\n",
       "      <th>4</th>\n",
       "      <td>Attendance Allowance</td>\n",
       "      <td>Allied Veteran</td>\n",
       "      <td>Member</td>\n",
       "      <td>Unknown</td>\n",
       "      <td>Veteran is Alive</td>\n",
       "    </tr>\n",
       "  </tbody>\n",
       "</table>\n",
       "</div>"
      ],
      "text/plain": [
       "                Benefit          Service Type Patron Type Is Still Serving  \\\n",
       "0  Attendance Allowance  War Service Veteran       Family          Unknown   \n",
       "1  Attendance Allowance                   CAF      Member          Unknown   \n",
       "2  Attendance Allowance  War Service Veteran       Member          Unknown   \n",
       "3  Attendance Allowance                  RCMP      Member          Unknown   \n",
       "4  Attendance Allowance        Allied Veteran      Member          Unknown   \n",
       "\n",
       "   Is Veteran Alive  \n",
       "0  Veteran is Alive  \n",
       "1  Veteran is Alive  \n",
       "2  Veteran is Alive  \n",
       "3  Veteran is Alive  \n",
       "4  Veteran is Alive  "
      ]
     },
     "execution_count": 8,
     "metadata": {},
     "output_type": "execute_result"
    }
   ],
   "source": [
    "df = df_mapping[['Benefit', 'Service Type', 'Applicant', 'still serving']].drop_duplicates()\n",
    "\n",
    "def still_serving_munger(x):\n",
    "    if x.lower() == 'y':\n",
    "        return 'Still Serving'\n",
    "    elif x.lower() == 'n':\n",
    "        return 'Released'\n",
    "    else:\n",
    "        return x\n",
    "df['Is Still Serving'] = df['still serving']. fillna('Unknown').map(still_serving_munger)\n",
    "\n",
    "df['Patron Type'] = df['Applicant'].map(lambda s: 'Member' if s == 'Member' else 'Family')\n",
    "\n",
    "df['Is Veteran Alive'] = df.Applicant.map(lambda s: 'Veteran is Deceased' if s in ['Survivor', 'Orphan (Veteran is deceased)'] else 'Veteran is Alive')\n",
    "\n",
    "df = df[['Benefit', 'Service Type', 'Patron Type', 'Is Still Serving', 'Is Veteran Alive']].drop_duplicates()\n",
    "df.sort_values(by=\"Benefit\", inplace=True)\n",
    "df = df.reset_index(drop=True)\n",
    "df.head()"
   ]
  },
  {
   "cell_type": "code",
   "execution_count": 9,
   "metadata": {},
   "outputs": [],
   "source": [
    "df.to_csv('profile_data.csv')"
   ]
  },
  {
   "cell_type": "code",
   "execution_count": null,
   "metadata": {},
   "outputs": [],
   "source": []
  },
  {
   "cell_type": "code",
   "execution_count": null,
   "metadata": {},
   "outputs": [],
   "source": []
  },
  {
   "cell_type": "markdown",
   "metadata": {},
   "source": [
    "## Reserve status"
   ]
  },
  {
   "cell_type": "code",
   "execution_count": 10,
   "metadata": {
    "scrolled": false
   },
   "outputs": [],
   "source": [
    "reserve_df = df_mapping[[\"Benefit\", 'member or Veteran of the Regular Force', 'Reserve force Veteran or member  completed at least 21 months of full time service during 24 consecutive months or Special Duty Service or emergency service within the last two years']]"
   ]
  },
  {
   "cell_type": "code",
   "execution_count": 11,
   "metadata": {},
   "outputs": [],
   "source": [
    "reserve_df = reserve_df.drop_duplicates()"
   ]
  },
  {
   "cell_type": "code",
   "execution_count": 12,
   "metadata": {},
   "outputs": [
    {
     "data": {
      "text/html": [
       "<div>\n",
       "<style scoped>\n",
       "    .dataframe tbody tr th:only-of-type {\n",
       "        vertical-align: middle;\n",
       "    }\n",
       "\n",
       "    .dataframe tbody tr th {\n",
       "        vertical-align: top;\n",
       "    }\n",
       "\n",
       "    .dataframe thead th {\n",
       "        text-align: right;\n",
       "    }\n",
       "</style>\n",
       "<table border=\"1\" class=\"dataframe\">\n",
       "  <thead>\n",
       "    <tr style=\"text-align: right;\">\n",
       "      <th></th>\n",
       "      <th>Benefit</th>\n",
       "      <th>member or Veteran of the Regular Force</th>\n",
       "      <th>Reserve force Veteran or member  completed at least 21 months of full time service during 24 consecutive months or Special Duty Service or emergency service within the last two years</th>\n",
       "    </tr>\n",
       "  </thead>\n",
       "  <tbody>\n",
       "    <tr>\n",
       "      <th>221</th>\n",
       "      <td>Career Transition Services</td>\n",
       "      <td>Y</td>\n",
       "      <td>NaN</td>\n",
       "    </tr>\n",
       "    <tr>\n",
       "      <th>222</th>\n",
       "      <td>Career Transition Services</td>\n",
       "      <td>N</td>\n",
       "      <td>Y</td>\n",
       "    </tr>\n",
       "  </tbody>\n",
       "</table>\n",
       "</div>"
      ],
      "text/plain": [
       "                        Benefit member or Veteran of the Regular Force  \\\n",
       "221  Career Transition Services                                      Y   \n",
       "222  Career Transition Services                                      N   \n",
       "\n",
       "    Reserve force Veteran or member  completed at least 21 months of full time service during 24 consecutive months or Special Duty Service or emergency service within the last two years  \n",
       "221                                                                                                                                                                                    NaN  \n",
       "222                                                                                                                                                                                      Y  "
      ]
     },
     "execution_count": 12,
     "metadata": {},
     "output_type": "execute_result"
    }
   ],
   "source": [
    "reserve_df[reserve_df['member or Veteran of the Regular Force'].notnull() \n",
    "           | reserve_df['Reserve force Veteran or member  completed at least 21 months of full time service during 24 consecutive months or Special Duty Service or emergency service within the last two years'].notnull()]"
   ]
  },
  {
   "cell_type": "code",
   "execution_count": null,
   "metadata": {},
   "outputs": [],
   "source": []
  },
  {
   "cell_type": "code",
   "execution_count": null,
   "metadata": {},
   "outputs": [],
   "source": []
  }
 ],
 "metadata": {
  "kernelspec": {
   "display_name": "Python 3",
   "language": "python",
   "name": "python3"
  },
  "language_info": {
   "codemirror_mode": {
    "name": "ipython",
    "version": 3
   },
   "file_extension": ".py",
   "mimetype": "text/x-python",
   "name": "python",
   "nbconvert_exporter": "python",
   "pygments_lexer": "ipython3",
   "version": "3.6.5"
  }
 },
 "nbformat": 4,
 "nbformat_minor": 2
}
